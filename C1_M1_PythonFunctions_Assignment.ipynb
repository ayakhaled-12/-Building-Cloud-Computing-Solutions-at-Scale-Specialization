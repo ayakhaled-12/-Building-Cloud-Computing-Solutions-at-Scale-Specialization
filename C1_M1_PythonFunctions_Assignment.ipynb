{
  "nbformat": 4,
  "nbformat_minor": 0,
  "metadata": {
    "colab": {
      "provenance": [],
      "toc_visible": true,
      "include_colab_link": true
    },
    "kernelspec": {
      "name": "python3",
      "display_name": "Python 3"
    },
    "language_info": {
      "name": "python"
    }
  },
  "cells": [
    {
      "cell_type": "markdown",
      "metadata": {
        "id": "view-in-github",
        "colab_type": "text"
      },
      "source": [
        "<a href=\"https://colab.research.google.com/github/ayakhaled-12/-Building-Cloud-Computing-Solutions-at-Scale-Specialization/blob/main/C1_M1_PythonFunctions_Assignment.ipynb\" target=\"_parent\"><img src=\"https://colab.research.google.com/assets/colab-badge.svg\" alt=\"Open In Colab\"/></a>"
      ]
    },
    {
      "cell_type": "markdown",
      "source": [
        "# Let's warm up your knowledge about Python Functions"
      ],
      "metadata": {
        "id": "ppDpsG5-CVRQ"
      }
    },
    {
      "cell_type": "markdown",
      "source": [
        "## Simple functions"
      ],
      "metadata": {
        "id": "oHK8Z4ABCb99"
      }
    },
    {
      "cell_type": "markdown",
      "source": [
        "### Task: Define a function `sayhi()` that:\n",
        "1.  Ask user for an int and save it to `n`.\n",
        "2.  print 'Welcome to Python Functions' n times."
      ],
      "metadata": {
        "id": "yg5W8YfOC1dA"
      }
    },
    {
      "cell_type": "code",
      "source": [
        "def sayhi():\n",
        "  get_int = int(input(\"Please Enter an integer number: \"))\n",
        "  for i in range(get_int):\n",
        "    print(\"Welcome to Python Functions\")"
      ],
      "metadata": {
        "id": "usFUIMdeSdxv"
      },
      "execution_count": 1,
      "outputs": []
    },
    {
      "cell_type": "code",
      "source": [
        "sayhi()"
      ],
      "metadata": {
        "colab": {
          "base_uri": "https://localhost:8080/"
        },
        "id": "PxS1tZfYSyFk",
        "outputId": "c1c98e2f-cd8a-4efd-f8a4-4505d9d7653b"
      },
      "execution_count": 2,
      "outputs": [
        {
          "output_type": "stream",
          "name": "stdout",
          "text": [
            "Please Enter an integer number: 2\n",
            "Welcome to Python Functions\n",
            "Welcome to Python Functions\n"
          ]
        }
      ]
    },
    {
      "cell_type": "markdown",
      "source": [
        "### Task: Call sayhi()"
      ],
      "metadata": {
        "id": "Gb9EIY26DXD7"
      }
    },
    {
      "cell_type": "code",
      "source": [
        "sayhi()"
      ],
      "metadata": {
        "colab": {
          "base_uri": "https://localhost:8080/"
        },
        "id": "fBp_Co2gS289",
        "outputId": "411122e0-6c6e-49fe-8174-951720e68295"
      },
      "execution_count": 3,
      "outputs": [
        {
          "output_type": "stream",
          "name": "stdout",
          "text": [
            "Please Enter an integer number: 5\n",
            "Welcome to Python Functions\n",
            "Welcome to Python Functions\n",
            "Welcome to Python Functions\n",
            "Welcome to Python Functions\n",
            "Welcome to Python Functions\n"
          ]
        }
      ]
    },
    {
      "cell_type": "markdown",
      "source": [
        "### Task: Define a function `sayhi(n)` that print 'Welcome to Python Functions' `n` times."
      ],
      "metadata": {
        "id": "jNWzC7reDzBK"
      }
    },
    {
      "cell_type": "code",
      "source": [
        "def sayhi(n):\n",
        "  for i in range(n):\n",
        "    print('Welcome to Python Functions')\n"
      ],
      "metadata": {
        "id": "XVtap7YyS48U"
      },
      "execution_count": 6,
      "outputs": []
    },
    {
      "cell_type": "markdown",
      "source": [
        "### Task: Call sayhi(n) to print out 5 times"
      ],
      "metadata": {
        "id": "nafd3aKWDNZ9"
      }
    },
    {
      "cell_type": "code",
      "source": [
        "sayhi(5)"
      ],
      "metadata": {
        "colab": {
          "base_uri": "https://localhost:8080/"
        },
        "id": "fXPGlyYqTBkf",
        "outputId": "b7fbdef9-e3c5-469b-fa4b-38380a5e270f"
      },
      "execution_count": 7,
      "outputs": [
        {
          "output_type": "stream",
          "name": "stdout",
          "text": [
            "Welcome to Python Functions\n",
            "Welcome to Python Functions\n",
            "Welcome to Python Functions\n",
            "Welcome to Python Functions\n",
            "Welcome to Python Functions\n"
          ]
        }
      ]
    },
    {
      "cell_type": "markdown",
      "source": [
        "## Advanced functions"
      ],
      "metadata": {
        "id": "Qq3vg5svD9IC"
      }
    },
    {
      "cell_type": "markdown",
      "source": [
        "### Task: Define a function `sayhi(n)` that:\n",
        "1. `n` is by default 1, if user doesn't pass an argument to the function.\n",
        "2.  print 'Welcome to Python Functions' `n` times."
      ],
      "metadata": {
        "id": "HiO91tK_EALz"
      }
    },
    {
      "cell_type": "code",
      "source": [
        "def sayhi(n = 1):\n",
        "  for i in range(n):\n",
        "    print('Welcome to Python Functions')\n"
      ],
      "metadata": {
        "id": "Toy8QVYUTHjr"
      },
      "execution_count": 8,
      "outputs": []
    },
    {
      "cell_type": "markdown",
      "source": [
        "### Task: Call `sayhi(n)` to print out 0, 1, and 5 messages."
      ],
      "metadata": {
        "id": "6kl3LMEDEud4"
      }
    },
    {
      "cell_type": "code",
      "source": [
        "sayhi(0)"
      ],
      "metadata": {
        "id": "cxnfs7ExTRmR"
      },
      "execution_count": 9,
      "outputs": []
    },
    {
      "cell_type": "code",
      "source": [
        "sayhi(1)"
      ],
      "metadata": {
        "colab": {
          "base_uri": "https://localhost:8080/"
        },
        "id": "3pDd38ZMTUh1",
        "outputId": "0d47f986-67c7-4efe-afb5-d498ed2ba6ea"
      },
      "execution_count": 10,
      "outputs": [
        {
          "output_type": "stream",
          "name": "stdout",
          "text": [
            "Welcome to Python Functions\n"
          ]
        }
      ]
    },
    {
      "cell_type": "code",
      "source": [
        "sayhi(5)"
      ],
      "metadata": {
        "colab": {
          "base_uri": "https://localhost:8080/"
        },
        "id": "Q08Lc7eqTWAc",
        "outputId": "d6bc3c43-3cff-4986-f439-82ab2baed1fa"
      },
      "execution_count": 11,
      "outputs": [
        {
          "output_type": "stream",
          "name": "stdout",
          "text": [
            "Welcome to Python Functions\n",
            "Welcome to Python Functions\n",
            "Welcome to Python Functions\n",
            "Welcome to Python Functions\n",
            "Welcome to Python Functions\n"
          ]
        }
      ]
    },
    {
      "cell_type": "markdown",
      "source": [
        "### Task: Define a function `sayhi(n, msg)` that:\n",
        "1. `n` is by default 1, if user doesn't pass an argument to the function.\n",
        "1.  `msg` by default is 'Welcome to Python Functions', if user doesn't pass an argument.\n",
        "1.  print `msg` `n` times."
      ],
      "metadata": {
        "id": "xlzwLq_yEZ55"
      }
    },
    {
      "cell_type": "code",
      "source": [
        "def sayhi(n = 1 ,msg = 'Welcome to Python Functions'):\n",
        "  for i in range(n):\n",
        "    print(msg)\n",
        "\n"
      ],
      "metadata": {
        "id": "q_ybUmxfTYx1"
      },
      "execution_count": 12,
      "outputs": []
    },
    {
      "cell_type": "markdown",
      "source": [
        "### Task: Call `sayhi(n, msg)` to print out 0, 1, and 5 'Welcome to Python Functions'."
      ],
      "metadata": {
        "id": "RC0dRnrqE6ZG"
      }
    },
    {
      "cell_type": "code",
      "source": [
        "sayhi(0)"
      ],
      "metadata": {
        "id": "YeO1AEM5Ti3n"
      },
      "execution_count": 13,
      "outputs": []
    },
    {
      "cell_type": "code",
      "source": [
        "sayhi(1)"
      ],
      "metadata": {
        "colab": {
          "base_uri": "https://localhost:8080/"
        },
        "id": "kmANCod9Tmxc",
        "outputId": "feec6ecd-fd95-47bd-f621-2b5d81c4e174"
      },
      "execution_count": 14,
      "outputs": [
        {
          "output_type": "stream",
          "name": "stdout",
          "text": [
            "Welcome to Python Functions\n"
          ]
        }
      ]
    },
    {
      "cell_type": "code",
      "source": [
        "sayhi(5)"
      ],
      "metadata": {
        "colab": {
          "base_uri": "https://localhost:8080/"
        },
        "id": "R_7Id25wTofc",
        "outputId": "2a58d5c9-7873-441b-aa83-3fb4e4e96b19"
      },
      "execution_count": 15,
      "outputs": [
        {
          "output_type": "stream",
          "name": "stdout",
          "text": [
            "Welcome to Python Functions\n",
            "Welcome to Python Functions\n",
            "Welcome to Python Functions\n",
            "Welcome to Python Functions\n",
            "Welcome to Python Functions\n"
          ]
        }
      ]
    },
    {
      "cell_type": "markdown",
      "source": [
        "### Task: Call `sayhi(n, msg)` to print out 0, 1, and 5 'yeah'."
      ],
      "metadata": {
        "id": "YZ_vM9tdE_cf"
      }
    },
    {
      "cell_type": "code",
      "source": [
        "sayhi(0,'yeah')"
      ],
      "metadata": {
        "id": "ImLS6Mq0TqZl"
      },
      "execution_count": 17,
      "outputs": []
    },
    {
      "cell_type": "code",
      "source": [
        "sayhi(1,'yeah')"
      ],
      "metadata": {
        "colab": {
          "base_uri": "https://localhost:8080/"
        },
        "id": "AvSwgqH8TuFh",
        "outputId": "123e01ac-eea2-4f65-cf3f-817827b3dd1f"
      },
      "execution_count": 18,
      "outputs": [
        {
          "output_type": "stream",
          "name": "stdout",
          "text": [
            "yeah\n"
          ]
        }
      ]
    },
    {
      "cell_type": "code",
      "source": [
        "sayhi(5,'yeah')"
      ],
      "metadata": {
        "colab": {
          "base_uri": "https://localhost:8080/"
        },
        "id": "ZFnbYvhQTuKF",
        "outputId": "62809969-d6e7-40f5-f995-f758c6960cea"
      },
      "execution_count": 19,
      "outputs": [
        {
          "output_type": "stream",
          "name": "stdout",
          "text": [
            "yeah\n",
            "yeah\n",
            "yeah\n",
            "yeah\n",
            "yeah\n"
          ]
        }
      ]
    },
    {
      "cell_type": "markdown",
      "source": [
        "### Task: Call `sayhi(n, msg)` by keywords to print out 0, 1, and 5 'yeah'."
      ],
      "metadata": {
        "id": "8HoNnuTYFGv5"
      }
    },
    {
      "cell_type": "code",
      "source": [
        "sayhi(n = 0,msg = 'yeah')"
      ],
      "metadata": {
        "id": "5WdlBo9ET0DR"
      },
      "execution_count": 24,
      "outputs": []
    },
    {
      "cell_type": "code",
      "source": [
        "sayhi(n = 1,msg = 'yeah')"
      ],
      "metadata": {
        "colab": {
          "base_uri": "https://localhost:8080/"
        },
        "id": "wbWfvqyCT245",
        "outputId": "51de287f-aebe-4956-c50b-13fc9eec734d"
      },
      "execution_count": 22,
      "outputs": [
        {
          "output_type": "stream",
          "name": "stdout",
          "text": [
            "yeah\n"
          ]
        }
      ]
    },
    {
      "cell_type": "code",
      "source": [
        "sayhi(n = 5,msg = 'yeah')"
      ],
      "metadata": {
        "colab": {
          "base_uri": "https://localhost:8080/"
        },
        "id": "FDe2Ym_4T6iM",
        "outputId": "ef44002c-7aac-4f10-e133-eb091b678284"
      },
      "execution_count": 23,
      "outputs": [
        {
          "output_type": "stream",
          "name": "stdout",
          "text": [
            "yeah\n",
            "yeah\n",
            "yeah\n",
            "yeah\n",
            "yeah\n"
          ]
        }
      ]
    },
    {
      "cell_type": "code",
      "source": [],
      "metadata": {
        "id": "wL-Z3SnhT78d"
      },
      "execution_count": null,
      "outputs": []
    }
  ]
}