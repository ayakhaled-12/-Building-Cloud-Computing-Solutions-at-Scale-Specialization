{
  "cells": [
    {
      "cell_type": "markdown",
      "metadata": {
        "id": "view-in-github",
        "colab_type": "text"
      },
      "source": [
        "<a href=\"https://colab.research.google.com/github/ayakhaled-12/-Building-Cloud-Computing-Solutions-at-Scale-Specialization/blob/main/C1_M2_List_Lab.ipynb\" target=\"_parent\"><img src=\"https://colab.research.google.com/assets/colab-badge.svg\" alt=\"Open In Colab\"/></a>"
      ]
    },
    {
      "cell_type": "markdown",
      "source": [
        "# Lab-List"
      ],
      "metadata": {
        "tags": [],
        "cell_id": "8a2a2db403ec4b9d855e0c94b18c81c6",
        "deepnote_app_coordinates": {
          "h": 5,
          "w": 12,
          "x": 0,
          "y": 1
        },
        "deepnote_cell_type": "markdown",
        "id": "JCZR-YdIyVty"
      }
    },
    {
      "cell_type": "markdown",
      "source": [
        "## Data We Want to Organize\n",
        "You are given a dataset as below represented as a list. You should organize them in the required data structure in following tasks."
      ],
      "metadata": {
        "tags": [],
        "cell_id": "86ee79beadcc42428c1eb925513b6899",
        "deepnote_app_coordinates": {
          "h": 5,
          "w": 12,
          "x": 0,
          "y": 7
        },
        "deepnote_cell_type": "markdown",
        "id": "AiW2esedyVtz"
      }
    },
    {
      "cell_type": "code",
      "source": [
        "SIZE = 48"
      ],
      "metadata": {
        "id": "imUa4OKxyrgX"
      },
      "execution_count": 2,
      "outputs": []
    },
    {
      "cell_type": "code",
      "source": [
        "names = ['STU' + str(i) for i in range(100,100+SIZE)]"
      ],
      "metadata": {
        "tags": [],
        "cell_id": "1f194b2d55b24733b200a9b8fd669a3c",
        "source_hash": "d1526c0",
        "execution_start": 1668293746532,
        "execution_millis": 276518,
        "deepnote_app_coordinates": {
          "h": 5,
          "w": 12,
          "x": 0,
          "y": 13
        },
        "deepnote_to_be_reexecuted": false,
        "deepnote_cell_type": "code",
        "id": "xnKS-yqLyVtz"
      },
      "outputs": [],
      "execution_count": 5
    },
    {
      "cell_type": "code",
      "source": [
        "import random\n",
        "\n",
        "scores1 = [ random.randint(60, 100) for i in range(SIZE)]\n"
      ],
      "metadata": {
        "tags": [],
        "cell_id": "786ae477329b4e8cbb0b02c18cbc5107",
        "source_hash": "3478a76d",
        "execution_start": 1668293746579,
        "execution_millis": 580,
        "deepnote_app_coordinates": {
          "h": 5,
          "w": 12,
          "x": 0,
          "y": 19
        },
        "deepnote_to_be_reexecuted": false,
        "deepnote_cell_type": "code",
        "id": "aHXK7l7DyVt0"
      },
      "outputs": [],
      "execution_count": 6
    },
    {
      "cell_type": "markdown",
      "source": [
        "## List\n"
      ],
      "metadata": {
        "tags": [],
        "cell_id": "a9e53779797b4237b76c5d2e9a737aaf",
        "deepnote_app_coordinates": {
          "h": 5,
          "w": 12,
          "x": 0,
          "y": 25
        },
        "deepnote_cell_type": "markdown",
        "id": "FeoRCIapyVt0"
      }
    },
    {
      "cell_type": "markdown",
      "source": [
        "Task: Create a grade book `gradebook` as a list, in which each element is a list and the first item is the name (from the `names` data), and second item is the score (from the `scores1` data)."
      ],
      "metadata": {
        "tags": [],
        "cell_id": "4a73a754655440f99f30dc404eb95cb0",
        "deepnote_app_coordinates": {
          "h": 5,
          "w": 12,
          "x": 0,
          "y": 31
        },
        "deepnote_cell_type": "markdown",
        "id": "UxPy2ygRyVt0"
      }
    },
    {
      "cell_type": "code",
      "source": [
        "gradebook = []\n",
        "for idx in range(len(names)):\n",
        "  sublist = []\n",
        "  sublist.append(names[idx])\n",
        "  sublist.append(scores1[idx])\n",
        "  gradebook.append(sublist)\n",
        "gradebook\n",
        "\n"
      ],
      "metadata": {
        "colab": {
          "base_uri": "https://localhost:8080/"
        },
        "id": "dAoW799kRqCR",
        "outputId": "7d363cfa-15e0-4e95-c8cd-ced3c06f7b44"
      },
      "execution_count": 9,
      "outputs": [
        {
          "output_type": "execute_result",
          "data": {
            "text/plain": [
              "[['STU100', 74],\n",
              " ['STU101', 64],\n",
              " ['STU102', 99],\n",
              " ['STU103', 73],\n",
              " ['STU104', 80],\n",
              " ['STU105', 78],\n",
              " ['STU106', 99],\n",
              " ['STU107', 90],\n",
              " ['STU108', 75],\n",
              " ['STU109', 61],\n",
              " ['STU110', 90],\n",
              " ['STU111', 77],\n",
              " ['STU112', 88],\n",
              " ['STU113', 83],\n",
              " ['STU114', 81],\n",
              " ['STU115', 66],\n",
              " ['STU116', 76],\n",
              " ['STU117', 65],\n",
              " ['STU118', 72],\n",
              " ['STU119', 69],\n",
              " ['STU120', 74],\n",
              " ['STU121', 87],\n",
              " ['STU122', 94],\n",
              " ['STU123', 67],\n",
              " ['STU124', 78],\n",
              " ['STU125', 74],\n",
              " ['STU126', 97],\n",
              " ['STU127', 69],\n",
              " ['STU128', 73],\n",
              " ['STU129', 66],\n",
              " ['STU130', 88],\n",
              " ['STU131', 63],\n",
              " ['STU132', 61],\n",
              " ['STU133', 63],\n",
              " ['STU134', 67],\n",
              " ['STU135', 99],\n",
              " ['STU136', 86],\n",
              " ['STU137', 91],\n",
              " ['STU138', 73],\n",
              " ['STU139', 88],\n",
              " ['STU140', 90],\n",
              " ['STU141', 82],\n",
              " ['STU142', 94],\n",
              " ['STU143', 89],\n",
              " ['STU144', 79],\n",
              " ['STU145', 70],\n",
              " ['STU146', 86],\n",
              " ['STU147', 72]]"
            ]
          },
          "metadata": {},
          "execution_count": 9
        }
      ]
    },
    {
      "cell_type": "code",
      "source": [
        "# your code here"
      ],
      "metadata": {
        "tags": [],
        "cell_id": "b873d76ad49a4d5781ab032af8b55e2b",
        "source_hash": "8812a278",
        "execution_start": 1668293746580,
        "execution_millis": 20,
        "deepnote_app_coordinates": {
          "h": 5,
          "w": 12,
          "x": 0,
          "y": 37
        },
        "deepnote_to_be_reexecuted": false,
        "deepnote_cell_type": "code",
        "id": "jVv6y_LzyVt1"
      },
      "outputs": [],
      "execution_count": null
    },
    {
      "cell_type": "markdown",
      "source": [
        "Task: Create a subset of the `gradebook` as `gb1`, which contains first 25 elements of the `gradebook`"
      ],
      "metadata": {
        "tags": [],
        "cell_id": "08332d722c4e42a3bb416a6ad9b8ad1c",
        "deepnote_app_coordinates": {
          "h": 5,
          "w": 12,
          "x": 0,
          "y": 43
        },
        "deepnote_cell_type": "markdown",
        "id": "0Qu5ZN2nyVt1"
      }
    },
    {
      "cell_type": "code",
      "source": [
        "# your code here\n",
        "gb1 = gradebook[:25]\n",
        "len(gb1)"
      ],
      "metadata": {
        "tags": [],
        "cell_id": "2553d9d494f945fd90607bc7d08c4e34",
        "source_hash": "e20899d7",
        "execution_start": 1668293746600,
        "execution_millis": 562,
        "deepnote_app_coordinates": {
          "h": 5,
          "w": 12,
          "x": 0,
          "y": 49
        },
        "deepnote_to_be_reexecuted": false,
        "deepnote_cell_type": "code",
        "id": "QDoKAGYvyVt1",
        "colab": {
          "base_uri": "https://localhost:8080/"
        },
        "outputId": "76470437-c04c-4ef3-f882-a66687b8a6aa"
      },
      "outputs": [
        {
          "output_type": "execute_result",
          "data": {
            "text/plain": [
              "25"
            ]
          },
          "metadata": {},
          "execution_count": 12
        }
      ],
      "execution_count": 12
    },
    {
      "cell_type": "markdown",
      "source": [
        "Task: Create a subset of the `gradebook` as `gb2`, in which student name always ends with an even number"
      ],
      "metadata": {
        "tags": [],
        "cell_id": "0cfaf89c22d646da98b10f2211c85a8c",
        "deepnote_app_coordinates": {
          "h": 5,
          "w": 12,
          "x": 0,
          "y": 55
        },
        "deepnote_cell_type": "markdown",
        "id": "MSZ948xPyVt1"
      }
    },
    {
      "cell_type": "code",
      "source": [
        "# your code here\n",
        "gb2 = []\n",
        "for sublist in gradebook:\n",
        "  name = sublist[0]\n",
        "  if int(name[-1]) % 2 == 0:\n",
        "    gb2.append(sublist)\n",
        "\n",
        "print(gb2)"
      ],
      "metadata": {
        "tags": [],
        "cell_id": "592e49bc6d314951b261759dc7a92949",
        "source_hash": "21bfb041",
        "execution_start": 1668293746601,
        "execution_millis": 561,
        "deepnote_app_coordinates": {
          "h": 5,
          "w": 12,
          "x": 0,
          "y": 61
        },
        "deepnote_to_be_reexecuted": false,
        "deepnote_cell_type": "code",
        "id": "LW2XeL2DyVt1",
        "colab": {
          "base_uri": "https://localhost:8080/"
        },
        "outputId": "7b1c45ef-f3ff-4739-dd4b-09dfdf8fc21e"
      },
      "outputs": [
        {
          "output_type": "stream",
          "name": "stdout",
          "text": [
            "[['STU100', 74], ['STU102', 99], ['STU104', 80], ['STU106', 99], ['STU108', 75], ['STU110', 90], ['STU112', 88], ['STU114', 81], ['STU116', 76], ['STU118', 72], ['STU120', 74], ['STU122', 94], ['STU124', 78], ['STU126', 97], ['STU128', 73], ['STU130', 88], ['STU132', 61], ['STU134', 67], ['STU136', 86], ['STU138', 73], ['STU140', 90], ['STU142', 94], ['STU144', 79], ['STU146', 86]]\n"
          ]
        }
      ],
      "execution_count": 23
    },
    {
      "cell_type": "markdown",
      "source": [
        "Task: Create a subset of the `gradebook` as `gb3`, in which student score always above 80"
      ],
      "metadata": {
        "tags": [],
        "cell_id": "71b0b2d1903f4f31b01504bd8c8edd23",
        "deepnote_app_coordinates": {
          "h": 5,
          "w": 12,
          "x": 0,
          "y": 67
        },
        "deepnote_cell_type": "markdown",
        "id": "dCSIn9myyVt1"
      }
    },
    {
      "cell_type": "code",
      "source": [
        "# your code here\n",
        "gb3 = []\n",
        "for sublist in gradebook:\n",
        "  grade = sublist[-1]\n",
        "  if grade > 80:\n",
        "    gb3.append(sublist)\n",
        "\n",
        "print(gb3)"
      ],
      "metadata": {
        "tags": [],
        "cell_id": "fb18cabab0b148bc986c5a986e228fce",
        "source_hash": "75dc9a58",
        "execution_start": 1668293746602,
        "execution_millis": 561,
        "deepnote_app_coordinates": {
          "h": 5,
          "w": 12,
          "x": 0,
          "y": 73
        },
        "deepnote_to_be_reexecuted": false,
        "deepnote_cell_type": "code",
        "id": "M5gq0YDdyVt1",
        "colab": {
          "base_uri": "https://localhost:8080/"
        },
        "outputId": "954f4ffc-1ef1-4a36-adfe-e6277d5beae3"
      },
      "outputs": [
        {
          "output_type": "stream",
          "name": "stdout",
          "text": [
            "[['STU102', 99], ['STU106', 99], ['STU107', 90], ['STU110', 90], ['STU112', 88], ['STU113', 83], ['STU114', 81], ['STU121', 87], ['STU122', 94], ['STU126', 97], ['STU130', 88], ['STU135', 99], ['STU136', 86], ['STU137', 91], ['STU139', 88], ['STU140', 90], ['STU141', 82], ['STU142', 94], ['STU143', 89], ['STU146', 86]]\n"
          ]
        }
      ],
      "execution_count": 25
    },
    {
      "cell_type": "markdown",
      "source": [
        "Task: Create a subset of the `gradebook` as `gb4`, in which student scores are below the average score"
      ],
      "metadata": {
        "id": "ZSAvgyz7zwYe"
      }
    },
    {
      "cell_type": "code",
      "source": [
        "# your code here\n",
        "import numpy as np\n",
        "gb4 = []\n",
        "avg_score = np.mean(([ sublist[-1] for sublist in gradebook]))\n",
        "for sublist in gradebook:\n",
        "  if sublist[-1] < avg_score:\n",
        "    gb4.append(sublist)\n",
        "\n",
        "print(gb4)\n"
      ],
      "metadata": {
        "id": "ohPwjmvPzuhu",
        "colab": {
          "base_uri": "https://localhost:8080/"
        },
        "outputId": "342349ea-69c6-4938-9311-a34cb3112db9"
      },
      "execution_count": 30,
      "outputs": [
        {
          "output_type": "stream",
          "name": "stdout",
          "text": [
            "[['STU100', 74], ['STU101', 64], ['STU103', 73], ['STU105', 78], ['STU108', 75], ['STU109', 61], ['STU111', 77], ['STU115', 66], ['STU116', 76], ['STU117', 65], ['STU118', 72], ['STU119', 69], ['STU120', 74], ['STU123', 67], ['STU124', 78], ['STU125', 74], ['STU127', 69], ['STU128', 73], ['STU129', 66], ['STU131', 63], ['STU132', 61], ['STU133', 63], ['STU134', 67], ['STU138', 73], ['STU145', 70], ['STU147', 72]]\n"
          ]
        }
      ]
    },
    {
      "cell_type": "markdown",
      "source": [
        "Task: Update the `gradebook` so the scores are converted to letter grade: >=90 is A, >=80 is B, etc."
      ],
      "metadata": {
        "tags": [],
        "cell_id": "76aa5362844c496bbea2b8bfdc0e08fb",
        "deepnote_app_coordinates": {
          "h": 5,
          "w": 12,
          "x": 0,
          "y": 79
        },
        "deepnote_cell_type": "markdown",
        "id": "omNbuMKDyVt1"
      }
    },
    {
      "cell_type": "code",
      "source": [
        "# your code here\n",
        "for sublist in gradebook:\n",
        "  if sublist[-1] >= 90:\n",
        "    sublist[-1] = 'A'\n",
        "  elif sublist[-1] >= 80:\n",
        "    sublist[-1] = 'B'\n",
        "gradebook\n"
      ],
      "metadata": {
        "tags": [],
        "cell_id": "90006f5726414cbd8367c36a7f8a168d",
        "source_hash": "354fcbfb",
        "execution_start": 1668293746643,
        "execution_millis": 520,
        "deepnote_app_coordinates": {
          "h": 5,
          "w": 12,
          "x": 0,
          "y": 85
        },
        "deepnote_to_be_reexecuted": false,
        "deepnote_cell_type": "code",
        "id": "wQPipM1jyVt1",
        "colab": {
          "base_uri": "https://localhost:8080/"
        },
        "outputId": "be291b58-5964-4b64-9b63-498919675da6"
      },
      "outputs": [
        {
          "output_type": "execute_result",
          "data": {
            "text/plain": [
              "[['STU100', 74],\n",
              " ['STU101', 64],\n",
              " ['STU102', 'A'],\n",
              " ['STU103', 73],\n",
              " ['STU104', 'B'],\n",
              " ['STU105', 78],\n",
              " ['STU106', 'A'],\n",
              " ['STU107', 'A'],\n",
              " ['STU108', 75],\n",
              " ['STU109', 61],\n",
              " ['STU110', 'A'],\n",
              " ['STU111', 77],\n",
              " ['STU112', 'B'],\n",
              " ['STU113', 'B'],\n",
              " ['STU114', 'B'],\n",
              " ['STU115', 66],\n",
              " ['STU116', 76],\n",
              " ['STU117', 65],\n",
              " ['STU118', 72],\n",
              " ['STU119', 69],\n",
              " ['STU120', 74],\n",
              " ['STU121', 'B'],\n",
              " ['STU122', 'A'],\n",
              " ['STU123', 67],\n",
              " ['STU124', 78],\n",
              " ['STU125', 74],\n",
              " ['STU126', 'A'],\n",
              " ['STU127', 69],\n",
              " ['STU128', 73],\n",
              " ['STU129', 66],\n",
              " ['STU130', 'B'],\n",
              " ['STU131', 63],\n",
              " ['STU132', 61],\n",
              " ['STU133', 63],\n",
              " ['STU134', 67],\n",
              " ['STU135', 'A'],\n",
              " ['STU136', 'B'],\n",
              " ['STU137', 'A'],\n",
              " ['STU138', 73],\n",
              " ['STU139', 'B'],\n",
              " ['STU140', 'A'],\n",
              " ['STU141', 'B'],\n",
              " ['STU142', 'A'],\n",
              " ['STU143', 'B'],\n",
              " ['STU144', 79],\n",
              " ['STU145', 70],\n",
              " ['STU146', 'B'],\n",
              " ['STU147', 72]]"
            ]
          },
          "metadata": {},
          "execution_count": 32
        }
      ],
      "execution_count": 32
    },
    {
      "cell_type": "code",
      "source": [],
      "metadata": {
        "id": "02s5QK9VU4mD"
      },
      "execution_count": null,
      "outputs": []
    }
  ],
  "nbformat": 4,
  "nbformat_minor": 0,
  "metadata": {
    "deepnote": {},
    "orig_nbformat": 2,
    "deepnote_app_layout": "article",
    "deepnote_notebook_id": "0309c2b816a34a00bd52f3f4ec174672",
    "deepnote_persisted_session": {
      "createdAt": "2022-11-12T23:15:56.938Z"
    },
    "deepnote_execution_queue": [],
    "colab": {
      "provenance": [],
      "include_colab_link": true
    },
    "language_info": {
      "name": "python"
    },
    "kernelspec": {
      "name": "python3",
      "display_name": "Python 3"
    },
    "gpuClass": "standard"
  }
}