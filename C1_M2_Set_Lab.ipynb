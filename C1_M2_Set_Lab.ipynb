{
  "cells": [
    {
      "cell_type": "markdown",
      "metadata": {
        "id": "view-in-github",
        "colab_type": "text"
      },
      "source": [
        "<a href=\"https://colab.research.google.com/github/ayakhaled-12/-Building-Cloud-Computing-Solutions-at-Scale-Specialization/blob/main/C1_M2_Set_Lab.ipynb\" target=\"_parent\"><img src=\"https://colab.research.google.com/assets/colab-badge.svg\" alt=\"Open In Colab\"/></a>"
      ]
    },
    {
      "cell_type": "markdown",
      "source": [
        "# Lab Set"
      ],
      "metadata": {
        "tags": [],
        "cell_id": "8a2a2db403ec4b9d855e0c94b18c81c6",
        "deepnote_app_coordinates": {
          "h": 5,
          "w": 12,
          "x": 0,
          "y": 1
        },
        "deepnote_cell_type": "markdown",
        "id": "vhIfpKue3F8M"
      }
    },
    {
      "cell_type": "markdown",
      "source": [
        "## Data We Want to Organize\n",
        "You are given a dataset as below represented as a list. You should organize them in the required data structure in following tasks."
      ],
      "metadata": {
        "tags": [],
        "cell_id": "86ee79beadcc42428c1eb925513b6899",
        "deepnote_app_coordinates": {
          "h": 5,
          "w": 12,
          "x": 0,
          "y": 7
        },
        "deepnote_cell_type": "markdown",
        "id": "0o65JD603F8P"
      }
    },
    {
      "cell_type": "code",
      "source": [
        "SIZE = 48"
      ],
      "metadata": {
        "id": "s6RViAPl4cOS"
      },
      "execution_count": 1,
      "outputs": []
    },
    {
      "cell_type": "code",
      "source": [
        "names = ['STU' + str(i) for i in range(100,100+SIZE)]\n",
        "names[1:3]"
      ],
      "metadata": {
        "tags": [],
        "cell_id": "1f194b2d55b24733b200a9b8fd669a3c",
        "source_hash": "d1526c0",
        "execution_start": 1668293746532,
        "execution_millis": 276518,
        "deepnote_app_coordinates": {
          "h": 5,
          "w": 12,
          "x": 0,
          "y": 13
        },
        "deepnote_to_be_reexecuted": false,
        "deepnote_cell_type": "code",
        "id": "cp3LCCZM3F8P",
        "colab": {
          "base_uri": "https://localhost:8080/"
        },
        "outputId": "1263791b-bc63-409e-da48-197ca0d3b679"
      },
      "outputs": [
        {
          "output_type": "execute_result",
          "data": {
            "text/plain": [
              "['STU101', 'STU102']"
            ]
          },
          "metadata": {},
          "execution_count": 5
        }
      ],
      "execution_count": 5
    },
    {
      "cell_type": "code",
      "source": [
        "import random\n",
        "\n",
        "scores1 = [random.randint(60, 100) for i in range(SIZE) ]\n",
        "scores1[1:3]"
      ],
      "metadata": {
        "tags": [],
        "cell_id": "786ae477329b4e8cbb0b02c18cbc5107",
        "source_hash": "3478a76d",
        "execution_start": 1668293746579,
        "execution_millis": 580,
        "deepnote_app_coordinates": {
          "h": 5,
          "w": 12,
          "x": 0,
          "y": 19
        },
        "deepnote_to_be_reexecuted": false,
        "deepnote_cell_type": "code",
        "id": "N4paz_Pz3F8R",
        "colab": {
          "base_uri": "https://localhost:8080/"
        },
        "outputId": "869f0935-f0e4-4931-bbd1-f8d1a313ad15"
      },
      "outputs": [
        {
          "output_type": "execute_result",
          "data": {
            "text/plain": [
              "[67, 64]"
            ]
          },
          "metadata": {},
          "execution_count": 6
        }
      ],
      "execution_count": 6
    },
    {
      "cell_type": "code",
      "source": [
        "scores2 = [random.randint(60, 100) for i in range(SIZE) ]\n",
        "scores2[1:3]"
      ],
      "metadata": {
        "id": "hse6wgqx3eBK",
        "colab": {
          "base_uri": "https://localhost:8080/"
        },
        "outputId": "3f3b3ae4-ac10-483e-8868-c6521b460f2a"
      },
      "execution_count": 7,
      "outputs": [
        {
          "output_type": "execute_result",
          "data": {
            "text/plain": [
              "[83, 89]"
            ]
          },
          "metadata": {},
          "execution_count": 7
        }
      ]
    },
    {
      "cell_type": "markdown",
      "source": [
        "## Set"
      ],
      "metadata": {
        "tags": [],
        "cell_id": "c52a968d246842c4b7dbd21c45e377e9",
        "deepnote_app_coordinates": {
          "h": 5,
          "w": 12,
          "x": 0,
          "y": 451
        },
        "deepnote_cell_type": "markdown",
        "id": "lGwPkoDX3F8j"
      }
    },
    {
      "cell_type": "markdown",
      "source": [
        "Task: We have `scores1` and `scores2`. Convert them to `set1` and `set2`"
      ],
      "metadata": {
        "tags": [],
        "cell_id": "f9ac4b9df3ed48b7bb6edb332de13e85",
        "deepnote_app_coordinates": {
          "h": 5,
          "w": 12,
          "x": 0,
          "y": 457
        },
        "deepnote_cell_type": "markdown",
        "id": "dCUZspUq3F8j"
      }
    },
    {
      "cell_type": "code",
      "source": [
        "# Your code is here\n",
        "set1 = set(scores1)\n",
        "set2 = set(scores2)"
      ],
      "metadata": {
        "tags": [],
        "cell_id": "45cf3822635247ebb61c938c0f7fabd1",
        "source_hash": "ff4ad7bc",
        "execution_start": 1668293746987,
        "execution_millis": 320,
        "deepnote_app_coordinates": {
          "h": 5,
          "w": 12,
          "x": 0,
          "y": 463
        },
        "deepnote_to_be_reexecuted": false,
        "deepnote_cell_type": "code",
        "id": "DJehh63j3F8j"
      },
      "outputs": [],
      "execution_count": 8
    },
    {
      "cell_type": "code",
      "source": [
        "# Your code is here"
      ],
      "metadata": {
        "tags": [],
        "cell_id": "4b837e74a17b453f916a037c889d36ee",
        "source_hash": "8b63762a",
        "execution_start": 1668293746988,
        "execution_millis": 319,
        "deepnote_app_coordinates": {
          "h": 5,
          "w": 12,
          "x": 0,
          "y": 469
        },
        "deepnote_to_be_reexecuted": false,
        "deepnote_cell_type": "code",
        "id": "M0xe3mz-3F8j"
      },
      "outputs": [],
      "execution_count": null
    },
    {
      "cell_type": "markdown",
      "source": [
        "Task: Print the unique score in scores1 and unique score in scores2"
      ],
      "metadata": {
        "tags": [],
        "cell_id": "07a306ffe7a646cc85581a2c47d87172",
        "deepnote_app_coordinates": {
          "h": 5,
          "w": 12,
          "x": 0,
          "y": 475
        },
        "deepnote_cell_type": "markdown",
        "id": "uXHr-OPv3F8j"
      }
    },
    {
      "cell_type": "code",
      "source": [
        "# Your code is here\n",
        "set1 , set2"
      ],
      "metadata": {
        "tags": [],
        "cell_id": "1dd8e2b69a8d414f9e03ea9aeb5022ba",
        "source_hash": "68deac06",
        "execution_start": 1668293746990,
        "execution_millis": 3,
        "deepnote_app_coordinates": {
          "h": 5,
          "w": 12,
          "x": 0,
          "y": 481
        },
        "deepnote_to_be_reexecuted": false,
        "deepnote_cell_type": "code",
        "id": "U3qU7LV83F8j",
        "colab": {
          "base_uri": "https://localhost:8080/"
        },
        "outputId": "5eace814-0327-4ae2-c594-ec8662efc714"
      },
      "outputs": [
        {
          "output_type": "execute_result",
          "data": {
            "text/plain": [
              "({61,\n",
              "  62,\n",
              "  63,\n",
              "  64,\n",
              "  65,\n",
              "  66,\n",
              "  67,\n",
              "  68,\n",
              "  69,\n",
              "  70,\n",
              "  71,\n",
              "  72,\n",
              "  73,\n",
              "  74,\n",
              "  79,\n",
              "  80,\n",
              "  81,\n",
              "  82,\n",
              "  84,\n",
              "  85,\n",
              "  87,\n",
              "  88,\n",
              "  89,\n",
              "  90,\n",
              "  91,\n",
              "  92,\n",
              "  93,\n",
              "  96,\n",
              "  97,\n",
              "  100},\n",
              " {60,\n",
              "  61,\n",
              "  62,\n",
              "  63,\n",
              "  65,\n",
              "  66,\n",
              "  67,\n",
              "  69,\n",
              "  70,\n",
              "  73,\n",
              "  75,\n",
              "  77,\n",
              "  78,\n",
              "  79,\n",
              "  82,\n",
              "  83,\n",
              "  86,\n",
              "  88,\n",
              "  89,\n",
              "  90,\n",
              "  91,\n",
              "  92,\n",
              "  93,\n",
              "  95,\n",
              "  96,\n",
              "  98,\n",
              "  99,\n",
              "  100})"
            ]
          },
          "metadata": {},
          "execution_count": 9
        }
      ],
      "execution_count": 9
    },
    {
      "cell_type": "markdown",
      "source": [
        "Task: Print the union of `set1` and `set2`"
      ],
      "metadata": {
        "tags": [],
        "cell_id": "b1bb186cd2964f2396f8cf9ef386942c",
        "deepnote_app_coordinates": {
          "h": 5,
          "w": 12,
          "x": 0,
          "y": 487
        },
        "deepnote_cell_type": "markdown",
        "id": "R1ZxQmV03F8j"
      }
    },
    {
      "cell_type": "code",
      "source": [
        "# Your code is here\n",
        "set1 | set2"
      ],
      "metadata": {
        "tags": [],
        "cell_id": "9adfadf3b751401183ee14c1b407bba8",
        "source_hash": "1c0a131e",
        "execution_start": 1668293747039,
        "execution_millis": 286,
        "deepnote_app_coordinates": {
          "h": 5,
          "w": 12,
          "x": 0,
          "y": 493
        },
        "deepnote_to_be_reexecuted": false,
        "deepnote_cell_type": "code",
        "id": "cprvwnyB3F8k",
        "colab": {
          "base_uri": "https://localhost:8080/"
        },
        "outputId": "67d99881-3bdc-445c-951f-f39feff8f497"
      },
      "outputs": [
        {
          "output_type": "execute_result",
          "data": {
            "text/plain": [
              "{60,\n",
              " 61,\n",
              " 62,\n",
              " 63,\n",
              " 64,\n",
              " 65,\n",
              " 66,\n",
              " 67,\n",
              " 68,\n",
              " 69,\n",
              " 70,\n",
              " 71,\n",
              " 72,\n",
              " 73,\n",
              " 74,\n",
              " 75,\n",
              " 77,\n",
              " 78,\n",
              " 79,\n",
              " 80,\n",
              " 81,\n",
              " 82,\n",
              " 83,\n",
              " 84,\n",
              " 85,\n",
              " 86,\n",
              " 87,\n",
              " 88,\n",
              " 89,\n",
              " 90,\n",
              " 91,\n",
              " 92,\n",
              " 93,\n",
              " 95,\n",
              " 96,\n",
              " 97,\n",
              " 98,\n",
              " 99,\n",
              " 100}"
            ]
          },
          "metadata": {},
          "execution_count": 10
        }
      ],
      "execution_count": 10
    },
    {
      "cell_type": "markdown",
      "source": [
        "Task: Print the intersection of `set1` and `set2`"
      ],
      "metadata": {
        "id": "YNC3vLLA3zfE"
      }
    },
    {
      "cell_type": "code",
      "source": [
        "# Your code is here\n",
        "set1 & set2"
      ],
      "metadata": {
        "id": "p8NPGTfe39Yq",
        "colab": {
          "base_uri": "https://localhost:8080/"
        },
        "outputId": "609a3c2f-f547-48b3-c668-c4be4bf515d3"
      },
      "execution_count": 11,
      "outputs": [
        {
          "output_type": "execute_result",
          "data": {
            "text/plain": [
              "{61, 62, 63, 65, 66, 67, 69, 70, 73, 79, 82, 88, 89, 90, 91, 92, 93, 96, 100}"
            ]
          },
          "metadata": {},
          "execution_count": 11
        }
      ]
    },
    {
      "cell_type": "markdown",
      "source": [
        "Task: Print the difference of `set1` and `set2`"
      ],
      "metadata": {
        "id": "nmiwV5dI30BK"
      }
    },
    {
      "cell_type": "code",
      "source": [
        "# Your code is here\n",
        "set1.difference(set2)"
      ],
      "metadata": {
        "id": "wk9k2RCv3-fh",
        "colab": {
          "base_uri": "https://localhost:8080/"
        },
        "outputId": "1e4d787f-a8f2-49c9-f363-7e1c030901af"
      },
      "execution_count": 12,
      "outputs": [
        {
          "output_type": "execute_result",
          "data": {
            "text/plain": [
              "{64, 68, 71, 72, 74, 80, 81, 84, 85, 87, 97}"
            ]
          },
          "metadata": {},
          "execution_count": 12
        }
      ]
    },
    {
      "cell_type": "code",
      "source": [],
      "metadata": {
        "id": "HbF21V-Urp8B"
      },
      "execution_count": null,
      "outputs": []
    }
  ],
  "nbformat": 4,
  "nbformat_minor": 0,
  "metadata": {
    "deepnote": {},
    "orig_nbformat": 2,
    "deepnote_app_layout": "article",
    "deepnote_notebook_id": "0309c2b816a34a00bd52f3f4ec174672",
    "deepnote_persisted_session": {
      "createdAt": "2022-11-12T23:15:56.938Z"
    },
    "deepnote_execution_queue": [],
    "colab": {
      "provenance": [],
      "include_colab_link": true
    },
    "language_info": {
      "name": "python"
    },
    "kernelspec": {
      "name": "python3",
      "display_name": "Python 3"
    },
    "gpuClass": "standard"
  }
}